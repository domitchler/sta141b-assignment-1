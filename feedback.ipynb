{
 "cells": [
  {
   "cell_type": "markdown",
   "metadata": {},
   "source": [
    "# STA 141B Assignment 1\n",
    "\n",
    "Due __Jan 17, 2019__ by 11:59pm. Submit by editing this file, committing the changes with git, and then pushing to your private GitHub repo for the assignment. This assignment is intentionally short so that you can submit a little bit early and have time to work out any issues with git!\n",
    "\n",
    "Please do not rename this file or delete the exercise cells, because it will interfere with our grading tools.\n",
    "\n",
    "Put your answers in new cells after each exercise. You can make as many new cells as you like. Use code cells for code and Markdown cells for text. Answer all questions with complete sentences.\n",
    "\n",
    "This assignment will be graded for correctness.\n",
    "\n",
    "The purpose of this assignment is to practice programming fundamentals: writing functions, if-statements, and loops. We'll get to more interesting and data science-y exercises in the next assignment."
   ]
  },
  {
   "cell_type": "markdown",
   "metadata": {
    "tags": [
     "exercise"
    ]
   },
   "source": [
    "## Warm Ups\n",
    "\n",
    "__Exercise 1.1 (10 points).__ In lecture, we saw that Python's lists have reference semantics. Give a similar example that shows Python's dictionaries have reference semantics. Make sure to explain your example."
   ]
  },
  {
   "cell_type": "markdown",
   "metadata": {
    "tags": [
     "grade"
    ]
   },
   "source": [
    "<span style=\"color:#F00\">Exercise 1.1 Grade<br />\n",
    "10/10\n",
    "</strong>\n",
    "\n",
    "Notes:\n"
   ]
  },
  {
   "cell_type": "code",
   "execution_count": 83,
   "metadata": {},
   "outputs": [
    {
     "name": "stdout",
     "output_type": "stream",
     "text": [
      "{'foo': 500, 'bar': 2}\n"
     ]
    }
   ],
   "source": [
    "x = {'foo': 1, 'bar': 2}    # x points to a block of memory containing the dictionary\n",
    "\n",
    "y = x    # y now points to the same block of memory that stores the dictionary called x\n",
    "\n",
    "y['foo'] = 500    # changing y changes the block of memory that x and y BOTH point to...\n",
    "\n",
    "print(x)    # ...which can be seen by examining x after changing y."
   ]
  },
  {
   "cell_type": "markdown",
   "metadata": {
    "tags": [
     "exercise"
    ]
   },
   "source": [
    "__Exercise 1.2 (10 points).__ Are strings mutable? Give an example and explain your reasoning. _Hint: It's a good idea to confirm your answer by checking the Python 3 documentation._\n",
    "\n",
    "Next, read [the documentation](https://docs.python.org/3/library/stdtypes.html#str.replace) for the string `.replace()` method. Give an example of using the method and explain how it fits in with your understanding of whether or not strings are mutable."
   ]
  },
  {
   "cell_type": "markdown",
   "metadata": {
    "tags": [
     "grade"
    ]
   },
   "source": [
    "<span style=\"color:#F00\">Exercise 1.2 Grade<br />\n",
    "10/10\n",
    "</strong>\n",
    "\n",
    "Notes:\n"
   ]
  },
  {
   "cell_type": "code",
   "execution_count": 85,
   "metadata": {},
   "outputs": [
    {
     "ename": "TypeError",
     "evalue": "'str' object does not support item assignment",
     "output_type": "error",
     "traceback": [
      "\u001b[1;31m---------------------------------------------------------------------------\u001b[0m",
      "\u001b[1;31mTypeError\u001b[0m                                 Traceback (most recent call last)",
      "\u001b[1;32m<ipython-input-85-14cf91d21b2a>\u001b[0m in \u001b[0;36m<module>\u001b[1;34m\u001b[0m\n\u001b[0;32m      1\u001b[0m \u001b[0ms\u001b[0m \u001b[1;33m=\u001b[0m \u001b[1;34m'hello'\u001b[0m\u001b[1;33m\u001b[0m\u001b[1;33m\u001b[0m\u001b[0m\n\u001b[1;32m----> 2\u001b[1;33m \u001b[0ms\u001b[0m\u001b[1;33m[\u001b[0m\u001b[1;36m0\u001b[0m\u001b[1;33m]\u001b[0m \u001b[1;33m=\u001b[0m \u001b[0my\u001b[0m    \u001b[1;31m# This doesn't work, and produces an error\u001b[0m\u001b[1;33m\u001b[0m\u001b[1;33m\u001b[0m\u001b[0m\n\u001b[0m",
      "\u001b[1;31mTypeError\u001b[0m: 'str' object does not support item assignment"
     ]
    }
   ],
   "source": [
    "s = 'hello'\n",
    "s[0] = y    # This doesn't work, and produces an error"
   ]
  },
  {
   "cell_type": "markdown",
   "metadata": {},
   "source": [
    "Strings in Python are immutable, like tuples."
   ]
  },
  {
   "cell_type": "code",
   "execution_count": 87,
   "metadata": {},
   "outputs": [
    {
     "data": {
      "text/plain": [
       "'yello'"
      ]
     },
     "execution_count": 87,
     "metadata": {},
     "output_type": "execute_result"
    }
   ],
   "source": [
    "s.replace('h', 'y')    # This does work, but does not actually change s"
   ]
  },
  {
   "cell_type": "code",
   "execution_count": 88,
   "metadata": {},
   "outputs": [
    {
     "name": "stdout",
     "output_type": "stream",
     "text": [
      "hello\n"
     ]
    }
   ],
   "source": [
    "print(s)    # string s is unchanged"
   ]
  },
  {
   "cell_type": "markdown",
   "metadata": {},
   "source": [
    "The string `.replace()` method works by returning a __copy__ of the string with the replacements made. It does not alter the original string."
   ]
  },
  {
   "cell_type": "markdown",
   "metadata": {
    "tags": [
     "exercise"
    ]
   },
   "source": [
    "## Writing Functions\n",
    "\n",
    "__Exercise 1.3 (10 points).__ Write a function `mean` that takes a list of numbers as input and returns their mean as output. Test your function on at least two examples."
   ]
  },
  {
   "cell_type": "markdown",
   "metadata": {
    "tags": [
     "grade"
    ]
   },
   "source": [
    "<span style=\"color:#F00\">Exercise 1.3 Grade<br />\n",
    "10/10\n",
    "</strong>\n",
    "\n",
    "Notes:\n"
   ]
  },
  {
   "cell_type": "code",
   "execution_count": 89,
   "metadata": {
    "collapsed": true
   },
   "outputs": [],
   "source": [
    "def mean(x):\n",
    "    sum = 0\n",
    "    for n in x:\n",
    "        sum += n\n",
    "    return sum/len(x)"
   ]
  },
  {
   "cell_type": "code",
   "execution_count": 90,
   "metadata": {},
   "outputs": [
    {
     "data": {
      "text/plain": [
       "3.5"
      ]
     },
     "execution_count": 90,
     "metadata": {},
     "output_type": "execute_result"
    }
   ],
   "source": [
    "mean([1,2,3,4.0,5,6])"
   ]
  },
  {
   "cell_type": "code",
   "execution_count": 91,
   "metadata": {},
   "outputs": [
    {
     "data": {
      "text/plain": [
       "75.0"
      ]
     },
     "execution_count": 91,
     "metadata": {},
     "output_type": "execute_result"
    }
   ],
   "source": [
    "mean([-800.3, -200, 0, 0, 100, 100, 600, 800.3])"
   ]
  },
  {
   "cell_type": "markdown",
   "metadata": {
    "tags": [
     "exercise"
    ]
   },
   "source": [
    "__Exercise 1.4 (10 points).__ For the function you wrote in Exercise 1.3, what happens if the input list is empty or contains non-numeric elements? Create a new version of your function called `better_mean` that returns `None` when either of these unusual cases occur.\n",
    "\n",
    "_Hint: A similar problem is discussed in [Section 6.8](http://greenteapress.com/thinkpython2/html/thinkpython2007.html#sec77) of Think Python._"
   ]
  },
  {
   "cell_type": "markdown",
   "metadata": {
    "tags": [
     "grade"
    ]
   },
   "source": [
    "<span style=\"color:#F00\">Exercise 1.4 Grade<br />\n",
    "10/10\n",
    "</strong>\n",
    "\n",
    "Notes:\n"
   ]
  },
  {
   "cell_type": "code",
   "execution_count": 92,
   "metadata": {
    "collapsed": true
   },
   "outputs": [],
   "source": [
    "def better_mean(x):\n",
    "    if len(x) == 0:\n",
    "        print('Input list was empty.')\n",
    "        return None\n",
    "    else:\n",
    "        sum = 0\n",
    "        for n in x:\n",
    "            if not (isinstance(n, float) or isinstance(n, int)):\n",
    "                print('Unexpected type in input list (must contain only ints or floats).')\n",
    "                return None\n",
    "            else:\n",
    "                sum += n\n",
    "        return sum/len(x)"
   ]
  },
  {
   "cell_type": "code",
   "execution_count": 93,
   "metadata": {},
   "outputs": [
    {
     "name": "stdout",
     "output_type": "stream",
     "text": [
      "Input list was empty.\n"
     ]
    }
   ],
   "source": [
    "better_mean([])"
   ]
  },
  {
   "cell_type": "code",
   "execution_count": 94,
   "metadata": {},
   "outputs": [
    {
     "name": "stdout",
     "output_type": "stream",
     "text": [
      "Unexpected type in input list (must contain only ints or floats).\n"
     ]
    }
   ],
   "source": [
    "better_mean([1.0, 4.5, 'six', 7, '', 49])"
   ]
  },
  {
   "cell_type": "code",
   "execution_count": 95,
   "metadata": {},
   "outputs": [
    {
     "data": {
      "text/plain": [
       "39070.15542333334"
      ]
     },
     "execution_count": 95,
     "metadata": {},
     "output_type": "execute_result"
    }
   ],
   "source": [
    "better_mean([1,2,3,4.5, 45.43254, 234365])"
   ]
  },
  {
   "cell_type": "markdown",
   "metadata": {
    "tags": [
     "exercise"
    ]
   },
   "source": [
    "__Exercise 1.5 (10 points).__ Read [Section 4.9](http://greenteapress.com/thinkpython2/html/thinkpython2005.html#sec50) of Think Python. Create a new version of your function from Exercise 1.4 called `best_mean` that includes a docstring explaining how to use the function. Give an example to show that your docstring works with Python's built-in help system."
   ]
  },
  {
   "cell_type": "markdown",
   "metadata": {
    "tags": [
     "grade"
    ]
   },
   "source": [
    "<span style=\"color:#F00\">Exercise 1.5 Grade<br />\n",
    "10/10\n",
    "</strong>\n",
    "\n",
    "Notes:\n"
   ]
  },
  {
   "cell_type": "code",
   "execution_count": 96,
   "metadata": {
    "collapsed": true
   },
   "outputs": [],
   "source": [
    "def best_mean(x):\n",
    "    '''\n",
    "    Returns the arithmetic mean of the numbers in the input list x.\n",
    "    x must be non-empty, and contain only integers or floats.\n",
    "    '''\n",
    "    if len(x) == 0:\n",
    "        print('Input list was empty.')\n",
    "        return None\n",
    "    else:\n",
    "        sum = 0\n",
    "        for n in x:\n",
    "            if not (isinstance(n, float) or isinstance(n, int)):\n",
    "                print('Unexpected type in input list (must contain only ints or floats).')\n",
    "                return None\n",
    "            else:\n",
    "                sum += n\n",
    "        return sum/len(x)"
   ]
  },
  {
   "cell_type": "code",
   "execution_count": 97,
   "metadata": {},
   "outputs": [
    {
     "name": "stdout",
     "output_type": "stream",
     "text": [
      "Help on function best_mean in module __main__:\n",
      "\n",
      "best_mean(x)\n",
      "    Returns the arithmetic mean of the numbers in the input list x.\n",
      "    x must be non-empty, and contain only integers or floats.\n",
      "\n"
     ]
    }
   ],
   "source": [
    "help(best_mean)"
   ]
  },
  {
   "cell_type": "markdown",
   "metadata": {
    "tags": [
     "exercise"
    ]
   },
   "source": [
    "__Exercise 1.6 (10 points).__ Write a function `median` that takes a list of numbers as input and returns their median as output. Document your function with a docstring. Test your function on at least two examples."
   ]
  },
  {
   "cell_type": "markdown",
   "metadata": {
    "tags": [
     "grade"
    ]
   },
   "source": [
    "<span style=\"color:#F00\">Exercise 1.6 Grade<br />\n",
    "10/10\n",
    "</strong>\n",
    "\n",
    "Notes:\n"
   ]
  },
  {
   "cell_type": "code",
   "execution_count": 4,
   "metadata": {
    "collapsed": true
   },
   "outputs": [],
   "source": [
    "def median(x):\n",
    "    '''\n",
    "    Returns the median of the numbers in the input list x.\n",
    "    '''\n",
    "    x.sort()\n",
    "    if len(x) % 2 != 0:\n",
    "        n = int((len(x) - 1) / 2)\n",
    "        return x[n]\n",
    "    else:\n",
    "        n = int(len(x) / 2) - 1\n",
    "        return (x[n] + x[n+1]) / 2"
   ]
  },
  {
   "cell_type": "code",
   "execution_count": 99,
   "metadata": {},
   "outputs": [
    {
     "data": {
      "text/plain": [
       "6.35"
      ]
     },
     "execution_count": 99,
     "metadata": {},
     "output_type": "execute_result"
    }
   ],
   "source": [
    "median([4,6,2,8,4,8,0,2,3,5,2,5,4,7,4,7,9,8,8,8,11,11,6.7,7.2])"
   ]
  },
  {
   "cell_type": "code",
   "execution_count": 100,
   "metadata": {},
   "outputs": [
    {
     "data": {
      "text/plain": [
       "5.5"
      ]
     },
     "execution_count": 100,
     "metadata": {},
     "output_type": "execute_result"
    }
   ],
   "source": [
    "median([3,6,2,67,3,5,876,23,5,12])"
   ]
  },
  {
   "cell_type": "markdown",
   "metadata": {
    "tags": [
     "exercise"
    ]
   },
   "source": [
    "## Finding Exponential Roots\n",
    "\n",
    "The Newton-Raphson algorithm is an algorithm for finding the zeroes of a mathematical function. We can use the Newton-Raphson algorithm to find zeroes of the function\n",
    "\n",
    "$$\n",
    "f(x) = x^p - c\n",
    "$$\n",
    "\n",
    "where $p$ and $c$ are constants. For example, if we choose $p = 2$ and $c = 5$, the Newton-Raphson algorithm finds solutions to\n",
    "\n",
    "$$\n",
    "0 = x^2 - 5\n",
    "$$\n",
    "\n",
    "In other words, we can use the algorithm to find square roots. By changing $p$, we can also find other kinds of exponential roots.\n",
    "\n",
    "\n",
    "The algorithm works by starting from an initial guess $x_0$ and then iteratively evaluating\n",
    "\n",
    "$$\n",
    "x_{n+1} = x_n - \\frac{f(x_n)}{f'(x_n)}\n",
    "$$\n",
    "\n",
    "for $n = 0, 1, 2, \\dots, N$ until reaching a result $X_{N+1}$ with acceptable accuracy. The initial guess does not need to be an excellent guess, but can affect which zero is found.\n",
    "\n",
    "For our specific function $f$, note that $f'(x) = px^{p-1}$.\n",
    "\n",
    "__Exercise 1.7 (20 points).__ Write a function `root` that uses the Newton-Raphson algorithm to compute one of the $p$-th roots for a constant $c$. Your function does not need to find complex roots, only real roots. Your function should have arguments\n",
    "\n",
    "* `c`, the constant\n",
    "* `p`, the power\n",
    "* `x0`, the initial guess\n",
    "* `N`, the maximum number of iterations\n",
    "\n",
    "Test your function for $c = 2$, $p = 2$, $N = 100$. Try different values of $x_0$. Can you find initial guesses to get both roots? Explain what happens when the initial guess is $x_0 = 0$."
   ]
  },
  {
   "cell_type": "markdown",
   "metadata": {
    "tags": [
     "grade"
    ]
   },
   "source": [
    "<span style=\"color:#F00\">Exercise 1.7 Grade<br />\n",
    "20/20\n",
    "</strong>\n",
    "\n",
    "Notes:\n"
   ]
  },
  {
   "cell_type": "code",
   "execution_count": 102,
   "metadata": {
    "collapsed": true
   },
   "outputs": [],
   "source": [
    "def root(c, p, x0, N):\n",
    "    x = x0\n",
    "    for n in range(0, N):\n",
    "        x -= (x**p - c)/(p * x**(p - 1))\n",
    "    return x"
   ]
  },
  {
   "cell_type": "code",
   "execution_count": 103,
   "metadata": {},
   "outputs": [
    {
     "data": {
      "text/plain": [
       "1.414213562373095"
      ]
     },
     "execution_count": 103,
     "metadata": {},
     "output_type": "execute_result"
    }
   ],
   "source": [
    "root(2, 2, 1, 100)"
   ]
  },
  {
   "cell_type": "code",
   "execution_count": 104,
   "metadata": {},
   "outputs": [
    {
     "data": {
      "text/plain": [
       "-1.414213562373095"
      ]
     },
     "execution_count": 104,
     "metadata": {},
     "output_type": "execute_result"
    }
   ],
   "source": [
    "root(2, 2, -1, 100)"
   ]
  },
  {
   "cell_type": "markdown",
   "metadata": {},
   "source": [
    "If $x_0 = 0$, then we get a Zero Division Error in the first iteration since\n",
    "$$x_1 = 0 - \\frac{0^p - c}{p(0)^{p-1}} = \\frac{c}{0},$$\n",
    "provided $p \\neq 1$, in which case the result in Python is $x_1 = c$ (the true root). See below for examples."
   ]
  },
  {
   "cell_type": "code",
   "execution_count": 105,
   "metadata": {},
   "outputs": [
    {
     "ename": "ZeroDivisionError",
     "evalue": "division by zero",
     "output_type": "error",
     "traceback": [
      "\u001b[1;31m---------------------------------------------------------------------------\u001b[0m",
      "\u001b[1;31mZeroDivisionError\u001b[0m                         Traceback (most recent call last)",
      "\u001b[1;32m<ipython-input-105-8ee8bcf7a85d>\u001b[0m in \u001b[0;36m<module>\u001b[1;34m\u001b[0m\n\u001b[1;32m----> 1\u001b[1;33m \u001b[0mroot\u001b[0m\u001b[1;33m(\u001b[0m\u001b[1;36m2\u001b[0m\u001b[1;33m,\u001b[0m \u001b[1;36m2\u001b[0m\u001b[1;33m,\u001b[0m \u001b[1;36m0\u001b[0m\u001b[1;33m,\u001b[0m \u001b[1;36m100\u001b[0m\u001b[1;33m)\u001b[0m\u001b[1;33m\u001b[0m\u001b[1;33m\u001b[0m\u001b[0m\n\u001b[0m",
      "\u001b[1;32m<ipython-input-102-e52acebc5c02>\u001b[0m in \u001b[0;36mroot\u001b[1;34m(c, p, x0, N)\u001b[0m\n\u001b[0;32m      2\u001b[0m     \u001b[0mx\u001b[0m \u001b[1;33m=\u001b[0m \u001b[0mx0\u001b[0m\u001b[1;33m\u001b[0m\u001b[1;33m\u001b[0m\u001b[0m\n\u001b[0;32m      3\u001b[0m     \u001b[1;32mfor\u001b[0m \u001b[0mn\u001b[0m \u001b[1;32min\u001b[0m \u001b[0mrange\u001b[0m\u001b[1;33m(\u001b[0m\u001b[1;36m0\u001b[0m\u001b[1;33m,\u001b[0m \u001b[0mN\u001b[0m\u001b[1;33m)\u001b[0m\u001b[1;33m:\u001b[0m\u001b[1;33m\u001b[0m\u001b[1;33m\u001b[0m\u001b[0m\n\u001b[1;32m----> 4\u001b[1;33m         \u001b[0mx\u001b[0m \u001b[1;33m-=\u001b[0m \u001b[1;33m(\u001b[0m\u001b[0mx\u001b[0m\u001b[1;33m**\u001b[0m\u001b[0mp\u001b[0m \u001b[1;33m-\u001b[0m \u001b[0mc\u001b[0m\u001b[1;33m)\u001b[0m\u001b[1;33m/\u001b[0m\u001b[1;33m(\u001b[0m\u001b[0mp\u001b[0m \u001b[1;33m*\u001b[0m \u001b[0mx\u001b[0m\u001b[1;33m**\u001b[0m\u001b[1;33m(\u001b[0m\u001b[0mp\u001b[0m \u001b[1;33m-\u001b[0m \u001b[1;36m1\u001b[0m\u001b[1;33m)\u001b[0m\u001b[1;33m)\u001b[0m\u001b[1;33m\u001b[0m\u001b[1;33m\u001b[0m\u001b[0m\n\u001b[0m\u001b[0;32m      5\u001b[0m     \u001b[1;32mreturn\u001b[0m \u001b[0mx\u001b[0m\u001b[1;33m\u001b[0m\u001b[1;33m\u001b[0m\u001b[0m\n",
      "\u001b[1;31mZeroDivisionError\u001b[0m: division by zero"
     ]
    }
   ],
   "source": [
    "root(2, 2, 0, 100)"
   ]
  },
  {
   "cell_type": "code",
   "execution_count": 106,
   "metadata": {},
   "outputs": [
    {
     "data": {
      "text/plain": [
       "2.0"
      ]
     },
     "execution_count": 106,
     "metadata": {},
     "output_type": "execute_result"
    }
   ],
   "source": [
    "root(2, 1, 0, 1)"
   ]
  },
  {
   "cell_type": "markdown",
   "metadata": {
    "tags": [
     "exercise"
    ]
   },
   "source": [
    "__Exercise 1.8 (20 points).__ Read the Python documentation for the string `.format()` method (see [here](https://docs.python.org/3/library/stdtypes.html#str.format)). Create a new version of your function from Exercise 1.7 called `root_print` that neatly prints the iteration number and estimate for each iteration up to $N$.\n",
    "\n",
    "Test your function for $c = 7$, $p = 3$, $x_0 = 2$, $N = 50$. About how many iterations does it take for the first 3 digits to stabilize at the correct values?"
   ]
  },
  {
   "cell_type": "markdown",
   "metadata": {
    "tags": [
     "grade"
    ]
   },
   "source": [
    "<span style=\"color:#F00\">Exercise 1.8 Grade<br />\n",
    "20/20\n",
    "</strong>\n",
    "\n",
    "Notes:\n"
   ]
  },
  {
   "cell_type": "code",
   "execution_count": 107,
   "metadata": {
    "collapsed": true
   },
   "outputs": [],
   "source": [
    "def root_print(c, p, x0, N):\n",
    "    x = x0\n",
    "    for n in range(0, N):\n",
    "        x -= (x**p - c)/(p * x**(p - 1))\n",
    "        print('n={0}, estimate={1}'.format(n, x))"
   ]
  },
  {
   "cell_type": "code",
   "execution_count": 108,
   "metadata": {},
   "outputs": [
    {
     "name": "stdout",
     "output_type": "stream",
     "text": [
      "n=0, estimate=1.9166666666666667\n",
      "n=1, estimate=1.9129384583070783\n",
      "n=2, estimate=1.9129311828000604\n",
      "n=3, estimate=1.9129311827723892\n",
      "n=4, estimate=1.9129311827723892\n",
      "n=5, estimate=1.9129311827723892\n",
      "n=6, estimate=1.9129311827723892\n",
      "n=7, estimate=1.9129311827723892\n",
      "n=8, estimate=1.9129311827723892\n",
      "n=9, estimate=1.9129311827723892\n",
      "n=10, estimate=1.9129311827723892\n",
      "n=11, estimate=1.9129311827723892\n",
      "n=12, estimate=1.9129311827723892\n",
      "n=13, estimate=1.9129311827723892\n",
      "n=14, estimate=1.9129311827723892\n",
      "n=15, estimate=1.9129311827723892\n",
      "n=16, estimate=1.9129311827723892\n",
      "n=17, estimate=1.9129311827723892\n",
      "n=18, estimate=1.9129311827723892\n",
      "n=19, estimate=1.9129311827723892\n",
      "n=20, estimate=1.9129311827723892\n",
      "n=21, estimate=1.9129311827723892\n",
      "n=22, estimate=1.9129311827723892\n",
      "n=23, estimate=1.9129311827723892\n",
      "n=24, estimate=1.9129311827723892\n",
      "n=25, estimate=1.9129311827723892\n",
      "n=26, estimate=1.9129311827723892\n",
      "n=27, estimate=1.9129311827723892\n",
      "n=28, estimate=1.9129311827723892\n",
      "n=29, estimate=1.9129311827723892\n",
      "n=30, estimate=1.9129311827723892\n",
      "n=31, estimate=1.9129311827723892\n",
      "n=32, estimate=1.9129311827723892\n",
      "n=33, estimate=1.9129311827723892\n",
      "n=34, estimate=1.9129311827723892\n",
      "n=35, estimate=1.9129311827723892\n",
      "n=36, estimate=1.9129311827723892\n",
      "n=37, estimate=1.9129311827723892\n",
      "n=38, estimate=1.9129311827723892\n",
      "n=39, estimate=1.9129311827723892\n",
      "n=40, estimate=1.9129311827723892\n",
      "n=41, estimate=1.9129311827723892\n",
      "n=42, estimate=1.9129311827723892\n",
      "n=43, estimate=1.9129311827723892\n",
      "n=44, estimate=1.9129311827723892\n",
      "n=45, estimate=1.9129311827723892\n",
      "n=46, estimate=1.9129311827723892\n",
      "n=47, estimate=1.9129311827723892\n",
      "n=48, estimate=1.9129311827723892\n",
      "n=49, estimate=1.9129311827723892\n"
     ]
    }
   ],
   "source": [
    "root_print(7, 3, 2, 50)"
   ]
  },
  {
   "cell_type": "markdown",
   "metadata": {},
   "source": [
    "The first estimate is already correct to $3$ digits."
   ]
  },
  {
   "cell_type": "markdown",
   "metadata": {
    "tags": [
     "exercise"
    ]
   },
   "source": [
    "## Fibonacci Words\n",
    "\n",
    "A [Fibonacci word](https://en.wikipedia.org/wiki/Fibonacci_word) is a string of 0s and 1s constructed by repeatedly concatenating strings. The first two words are\n",
    "\n",
    "```\n",
    "S0 = \"0\"\n",
    "S1 = \"01\"\n",
    "```\n",
    "\n",
    "Then each word is formed by concatenating the previous two words in the sequence. For instance, `S2`, is formed by concatenating `S1` and `S0`. So\n",
    "\n",
    "```\n",
    "S2 = \"010\"\n",
    "S3 = \"01001\"\n",
    "```\n",
    "\n",
    "__Exercise 1.9 (20 points).__ Write a function `fib` that computes Fibonacci words. Your function should take an argument `n` that specifies which word to compute.\n",
    "\n",
    "Use your function to print the first 10 Fibonacci words."
   ]
  },
  {
   "cell_type": "markdown",
   "metadata": {
    "tags": [
     "grade"
    ]
   },
   "source": [
    "<span style=\"color:#F00\">Exercise 1.9 Grade<br />\n",
    "20/20\n",
    "</strong>\n",
    "\n",
    "Notes:\n"
   ]
  },
  {
   "cell_type": "code",
   "execution_count": 109,
   "metadata": {
    "collapsed": true
   },
   "outputs": [],
   "source": [
    "def fib(n):\n",
    "    words = ['0', '01']\n",
    "    if n == 1:\n",
    "        print(words[0])\n",
    "    elif n == 2:\n",
    "        for word in words:\n",
    "            print(word)\n",
    "    else:\n",
    "        i = 2\n",
    "        while i < n:\n",
    "            new_word = words[i-1] + words[i-2]\n",
    "            words.append(new_word)\n",
    "            i += 1\n",
    "        for word in words:\n",
    "            print(word)"
   ]
  },
  {
   "cell_type": "code",
   "execution_count": 110,
   "metadata": {},
   "outputs": [
    {
     "name": "stdout",
     "output_type": "stream",
     "text": [
      "0\n",
      "01\n",
      "010\n",
      "01001\n",
      "01001010\n",
      "0100101001001\n",
      "010010100100101001010\n",
      "0100101001001010010100100101001001\n",
      "0100101001001010010100100101001001010010100100101001010\n",
      "01001010010010100101001001010010010100101001001010010100100101001001010010100100101001001\n"
     ]
    }
   ],
   "source": [
    "fib(10)"
   ]
  }
 ],
 "metadata": {
  "celltoolbar": "Tags",
  "kernelspec": {
   "display_name": "Python 3",
   "language": "python",
   "name": "python3"
  },
  "language_info": {
   "codemirror_mode": {
    "name": "ipython",
    "version": 3
   },
   "file_extension": ".py",
   "mimetype": "text/x-python",
   "name": "python",
   "nbconvert_exporter": "python",
   "pygments_lexer": "ipython3",
   "version": "3.6.3"
  }
 },
 "nbformat": 4,
 "nbformat_minor": 2
}
